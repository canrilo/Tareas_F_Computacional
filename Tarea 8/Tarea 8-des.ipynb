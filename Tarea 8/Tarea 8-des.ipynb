{
 "metadata": {
  "name": "Tarea 8-des"
 },
 "nbformat": 3,
 "nbformat_minor": 0,
 "worksheets": [
  {
   "cells": [
    {
     "cell_type": "code",
     "collapsed": false,
     "input": [
      "%pylab inline\n",
      "import numpy as np\n",
      "import matplotlib as plt"
     ],
     "language": "python",
     "metadata": {},
     "outputs": [
      {
       "output_type": "stream",
       "stream": "stdout",
       "text": [
        "\n",
        "Welcome to pylab, a matplotlib-based Python environment [backend: module://IPython.zmq.pylab.backend_inline].\n",
        "For more information, type 'help(pylab)'.\n"
       ]
      }
     ],
     "prompt_number": 1
    },
    {
     "cell_type": "code",
     "collapsed": false,
     "input": [
      "datos = np.loadtxt('dimer_observations.dat')"
     ],
     "language": "python",
     "metadata": {},
     "outputs": [],
     "prompt_number": 2
    },
    {
     "cell_type": "code",
     "collapsed": false,
     "input": [
      "plot(datos[:,0],datos[:,1])"
     ],
     "language": "python",
     "metadata": {},
     "outputs": [
      {
       "output_type": "pyout",
       "prompt_number": 3,
       "text": [
        "[<matplotlib.lines.Line2D at 0xab8712c>]"
       ]
      },
      {
       "output_type": "display_data",
       "png": "[encoded data removed]"
      }
     ],
     "prompt_number": 3
    },
    {
     "cell_type": "code",
     "collapsed": false,
     "input": [
      "#Se define la funci\u00f3n de pendiente dP/dt\n",
      "def DP(alpha,So,P,Km1,Km2,beta):\n",
      "    a1= ((alpha*(So-P))/(Km1+So-P))\n",
      "    b1=((beta*P)/(Km2+P))\n",
      "    c=a1-b1\n",
      "    return c"
     ],
     "language": "python",
     "metadata": {},
     "outputs": [],
     "prompt_number": 4
    },
    {
     "cell_type": "code",
     "collapsed": false,
     "input": [
      "#Se definen las variables que ser\u00e1n de utilidad para la iteraci\u00f3n\n",
      "inicio=datos[3,0]\n",
      "final=datos[18,0]\n",
      "pasos_cadena=20000\n",
      "resultados=np.zeros([pasos_cadena,6]) #Matriz de la cadena de Markov las columnas son a,b,km1,km2,So,Chi2\n",
      "paso_runge=0.01\n",
      "num_puntos=int((final-inicio)/paso_runge)+1\n",
      "tiempo=np.linspace(inicio,final,num_puntos)\n",
      "Pe=np.zeros([num_puntos])\n",
      "ponder=0.001\n",
      "posiciones=np.zeros([shape(datos)[0]-3])\n",
      "\n",
      "#Se definen de antemano los \u00edndices en los cuales se encontrar\u00e1n los valores de inter\u00e9s\n",
      "for i in range(shape(datos)[0]-3):\n",
      "    posiciones[i]=int((datos[i+3,0]-inicio)/paso_runge)"
     ],
     "language": "python",
     "metadata": {},
     "outputs": [],
     "prompt_number": 5
    },
    {
     "cell_type": "code",
     "collapsed": false,
     "input": [
      "#Definici\u00f3n de iteraci\u00f3n de Runge-Kutta de cuarto orden\n",
      "def rung_k(alpha,beta,km1,km2,so,h,P,puntos):\n",
      "    for i in range(1,puntos):\n",
      "      \n",
      "        k1 = DP(alpha,so,P[i-1],km1,km2,beta)\n",
      "        \n",
      "        #first step\n",
      "        y1 = P[i-1] + (h/2.0) * k1\n",
      "        k2 = DP(alpha,so,y1,km1,km2,beta)\n",
      "        \n",
      "        #second step\n",
      "        y2 = P[i-1] + (h/2.0) * k2\n",
      "        k3 = DP(alpha,so,y2,km1,km2,beta)\n",
      "            \n",
      "        #third step\n",
      "        y3 = P[i-1] + h * k3\n",
      "        k4 = DP(alpha,so,y3,km1,km2,beta)\n",
      "        \n",
      "        #fourth step\n",
      "        average_k = (1.0/6.0)*(k1 + 2.0*k2 + 2.0*k3 + k4)\n",
      "        \n",
      "        P[i] = P[i-1] + h * average_k\n",
      "    return P"
     ],
     "language": "python",
     "metadata": {},
     "outputs": [],
     "prompt_number": 6
    },
    {
     "cell_type": "code",
     "collapsed": false,
     "input": [
      "#Funci\u00f3n que extrae los valores temporales deseados de una matriz \n",
      "def extraer(buscados,donde):\n",
      "    salida=np.zeros([size(buscados),2])\n",
      "    for i in range(size(buscados)):\n",
      "        salida[i,:]=donde[buscados[i],:]\n",
      "    return salida"
     ],
     "language": "python",
     "metadata": {},
     "outputs": [],
     "prompt_number": 7
    },
    {
     "cell_type": "code",
     "collapsed": false,
     "input": [
      "#Funci\u00f3n que calcula el chi2\n",
      "def chi_cuad(ideal,teorico):\n",
      "    chi= sum((ideal-teorico)**2)\n",
      "    return chi"
     ],
     "language": "python",
     "metadata": {},
     "outputs": [],
     "prompt_number": 9
    },
    {
     "cell_type": "code",
     "collapsed": false,
     "input": [
      "#Se inicia la cadena\n",
      "for i in range(pasos_cadena):\n",
      "    alp=-1.0\n",
      "    bet=-1.0\n",
      "    ka1=-1.0\n",
      "    ka2=-1.0\n",
      "    eso=-1.0\n",
      "    while (alp<0 or bet<0 or ka1<0 or ka2<0 or eso<0):\n",
      "        alp=np.random.normal(resultados[i-1,0],0.1)\n",
      "        bet=np.random.normal(resultados[i-1,1],0.1)\n",
      "        ka1=np.random.normal(resultados[i-1,2],0.1)\n",
      "        ka2=np.random.normal(resultados[i-1,3],0.1)\n",
      "        eso=np.random.normal(resultados[i-1,4],0.1)\n",
      "    Pe[0]=datos[3,1]\n",
      "    #Se corre el c\u00f3digo de Runge-Kutta (Pe es un vector)\n",
      "    Pe=rung_k(alp,bet,ka1,ka2,eso,paso_runge,Pe,num_puntos)\n",
      "    #Se extraen los datos de inter\u00e9s (Pint es una matriz)\n",
      "    Pint=extraer(posiciones,np.column_stack((tiempo,Pe)))\n",
      "    #Se calcula el chi2 acutal\n",
      "    chi2=chi_cuad(datos[3:,1],Pint[:,1])\n",
      "    \n",
      "    if(i==0):\n",
      "        #Para el caso de la primera iteraci\u00f3n se guardan los datos directamente\n",
      "        resultados[i,:]=[alp,bet,ka1,ka2,eso,chi2]\n",
      "    else:\n",
      "        #Para el resto de los casos se realiza el procedimiento de Metropolis-Hastings\n",
      "        a=exp(resultados[i-1,5]-chi2)\n",
      "        if(a>=1.0):\n",
      "            resultados[i,:]=[alp,bet,ka1,ka2,eso,chi2]\n",
      "        else:\n",
      "            b=random.random()\n",
      "            if(b<=a):\n",
      "                resultados[i,:]=[alp,bet,ka1,ka2,eso,chi2]\n",
      "            else:\n",
      "                resultados[i,:]=resultados[i-1,:]"
     ],
     "language": "python",
     "metadata": {},
     "outputs": [],
     "prompt_number": 10
    },
    {
     "cell_type": "code",
     "collapsed": false,
     "input": [
      "#Se halla el punto de minimo chi2 y los par\u00e1metros en dicho punto\n",
      "minimo=where(resultados[:,5]==min(resultados[:,5]))[0]\n",
      "print minimo\n",
      "print 'Chi2='+str(resultados[minimo,5])\n",
      "print 'alpha='+str(resultados[minimo,0])\n",
      "print 'beta='+str(resultados[minimo,1])\n",
      "print 'Km1='+str(resultados[minimo,2])\n",
      "print 'Km2='+str(resultados[minimo,3])\n",
      "print 'So='+str(resultados[minimo,4])\n"
     ],
     "language": "python",
     "metadata": {},
     "outputs": [
      {
       "output_type": "stream",
       "stream": "stdout",
       "text": [
        "[19280]\n",
        "Chi2=[ 4.28670427]\n",
        "alpha=[ 12.68322838]\n",
        "beta=[ 18.09698968]\n",
        "Km1=[ 0.02585521]\n",
        "Km2=[ 7.6069648]\n",
        "So=[ 8.41564671]\n"
       ]
      }
     ],
     "prompt_number": 12
    },
    {
     "cell_type": "code",
     "collapsed": false,
     "input": [
      "#Se Extrae la funci\u00f3n predecida en dicho punto\n",
      "Pe=rung_k(resultados[minimo,0],resultados[minimo,1],resultados[minimo,2],resultados[minimo,3],resultados[minimo,4],paso_runge,Pe,num_puntos)\n",
      "Pint=extraer(posiciones,np.column_stack((tiempo,Pe)))"
     ],
     "language": "python",
     "metadata": {},
     "outputs": [],
     "prompt_number": 13
    },
    {
     "cell_type": "code",
     "collapsed": false,
     "input": [
      "plot(resultados[:,3])\n",
      "xlim((19000,20000))\n",
      "ylim((7,9))"
     ],
     "language": "python",
     "metadata": {},
     "outputs": [
      {
       "output_type": "pyout",
       "prompt_number": 39,
       "text": [
        "(7, 9)"
       ]
      },
      {
       "output_type": "display_data",
       "png": "[encoded data removed]"
      }
     ],
     "prompt_number": 39
    },
    {
     "cell_type": "code",
     "collapsed": false,
     "input": [
      "plot(datos[3:,0],datos[3:,1],'b',Pint[:,0],Pint[:,1],'r')"
     ],
     "language": "python",
     "metadata": {},
     "outputs": [
      {
       "output_type": "pyout",
       "prompt_number": 14,
       "text": [
        "[<matplotlib.lines.Line2D at 0xb3f3d0c>,\n",
        " <matplotlib.lines.Line2D at 0xb42836c>]"
       ]
      },
      {
       "output_type": "display_data",
       "png": "[encoded data removed]"
      }
     ],
     "prompt_number": 14
    },
    {
     "cell_type": "code",
     "collapsed": false,
     "input": [
      "res_min=resultados[minimo,:]\n",
      "def desv_estan(res_min):\n",
      "    suma=0\n",
      "    for x in res_min:\n",
      "        suma+=x\n",
      "        print x\n",
      "    prom=suma/float(len())\n",
      "    print prom\n",
      "    suma_dif_cuadrado=0\n",
      "    for x in res_min:\n",
      "        suma_dif_cuadrado+=(prom-x)**2\n",
      "        print suma_dif_cuadrado\n",
      "    varianza=suma_dif_cuadrado/float(len(valores)-1)\n",
      "    return sqrt(varianza)"
     ],
     "language": "python",
     "metadata": {},
     "outputs": [
      {
       "output_type": "pyout",
       "prompt_number": 29,
       "text": [
        "array([[ 12.68322838,  18.09698968,   0.02585521,   7.6069648 ]])"
       ]
      }
     ],
     "prompt_number": 29
    },
    {
     "cell_type": "code",
     "collapsed": false,
     "input": [],
     "language": "python",
     "metadata": {},
     "outputs": []
    }
   ],
   "metadata": {}
  }
 ]
}